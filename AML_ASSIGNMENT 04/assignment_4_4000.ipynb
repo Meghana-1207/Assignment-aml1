{
  "cells": [
    {
      "cell_type": "markdown",
      "metadata": {
        "id": "W6LBlBctzGmd"
      },
      "source": [
        "This is a companion notebook for the book [Deep Learning with Python, Second Edition](https://www.manning.com/books/deep-learning-with-python-second-edition?a_aid=keras&a_bid=76564dff). For readability, it only contains runnable code blocks and section titles, and omits everything else in the book: text paragraphs, figures, and pseudocode.\n",
        "\n",
        "**If you want to be able to follow what's going on, I recommend reading the notebook side by side with your copy of the book.**\n",
        "\n",
        "This notebook was generated for TensorFlow 2.6."
      ]
    },
    {
      "cell_type": "markdown",
      "metadata": {
        "id": "54WiKpXbzGmf"
      },
      "source": [
        "### Processing words as a sequence: The sequence model approach"
      ]
    },
    {
      "cell_type": "markdown",
      "metadata": {
        "id": "0Traj_ewzGmg"
      },
      "source": [
        "#### A first practical example"
      ]
    },
    {
      "cell_type": "markdown",
      "metadata": {
        "id": "rmpIJo6SzGmg"
      },
      "source": [
        "**Downloading the data**"
      ]
    },
    {
      "cell_type": "code",
      "execution_count": 53,
      "metadata": {
        "id": "aFVsVWKYzGmg"
      },
      "outputs": [],
      "source": [
        "#!curl -O https://ai.stanford.edu/~amaas/data/sentiment/aclImdb_v1.tar.gz\n",
        "#!tar -xf aclImdb_v1.tar.gz\n",
        "#!rm -r aclImdb/train/unsup"
      ]
    },
    {
      "cell_type": "markdown",
      "metadata": {
        "id": "GUIVQxlwzGmh"
      },
      "source": [
        "**Preparing the data**\n",
        "\n",
        "\n",
        "\n",
        "\n",
        "\n",
        "\n",
        "\n",
        "\n",
        "\n",
        "\n",
        "\n",
        "\n",
        "\n",
        "\n",
        "\n",
        "\n",
        "\n",
        "\n",
        "\n",
        "\n",
        "\n",
        "\n",
        "\n",
        "\n",
        "\n",
        "\n",
        "\n",
        "\n"
      ]
    },
    {
      "cell_type": "code",
      "execution_count": 54,
      "metadata": {
        "id": "ffrBYuBgzGmh"
      },
      "outputs": [],
      "source": [
        "# import os, pathlib, shutil, random\n",
        "# from tensorflow import keras\n",
        "# batch_size = 32\n",
        "# base_dir = pathlib.Path(\"aclImdb\")\n",
        "# val_dir = base_dir / \"val\"\n",
        "# train_dir = base_dir / \"train\"\n",
        "# for category in (\"neg\", \"pos\"):\n",
        "#     os.makedirs(val_dir / category)\n",
        "#     files = os.listdir(train_dir / category)\n",
        "#     random.Random(1337).shuffle(files)\n",
        "#     num_val_samples = int(0.2 * len(files))\n",
        "#     val_files = files[-num_val_samples:]\n",
        "#     for fname in val_files:\n",
        "#         shutil.move(train_dir / category / fname,\n",
        "#                     val_dir / category / fname)"
      ]
    },
    {
      "cell_type": "markdown",
      "metadata": {
        "id": "ZeGtpjsSzGmi"
      },
      "source": [
        "**Preparing integer sequence datasets**"
      ]
    },
    {
      "cell_type": "code",
      "execution_count": 55,
      "metadata": {
        "colab": {
          "base_uri": "https://localhost:8080/"
        },
        "id": "C0gv2-hXzGmi",
        "outputId": "4328ff9f-95b0-4f97-ceda-e9eb5cc26a7f"
      },
      "outputs": [
        {
          "output_type": "stream",
          "name": "stdout",
          "text": [
            "Found 20000 files belonging to 2 classes.\n",
            "Found 5000 files belonging to 2 classes.\n",
            "Found 25000 files belonging to 2 classes.\n"
          ]
        }
      ],
      "source": [
        "train_ds = keras.utils.text_dataset_from_directory(\n",
        "    \"aclImdb/train\", batch_size=batch_size\n",
        ")\n",
        "\n",
        "val_ds = keras.utils.text_dataset_from_directory(\n",
        "    \"aclImdb/val\", batch_size=batch_size\n",
        ")\n",
        "\n",
        "test_ds = keras.utils.text_dataset_from_directory(\n",
        "    \"aclImdb/test\", batch_size=batch_size\n",
        ")\n",
        "text_only_train_ds = train_ds.map(lambda x, y: x)\n",
        "from tensorflow.keras import layers\n",
        "\n",
        "max_length = 150\n",
        "max_tokens = 10000\n",
        "text_vectorization = layers.TextVectorization(\n",
        "    max_tokens=max_tokens,\n",
        "    output_mode=\"int\",\n",
        "    output_sequence_length=max_length,\n",
        ")\n",
        "text_vectorization.adapt(text_only_train_ds)\n",
        "\n",
        "train_ds = train_ds.take(4000) # change train samples\n",
        "int_train_ds = train_ds.map(\n",
        "    lambda x, y: (text_vectorization(x), y),\n",
        "    num_parallel_calls=4)\n",
        "val_ds = val_ds.take(10000)\n",
        "int_val_ds = val_ds.map(\n",
        "    lambda x, y: (text_vectorization(x), y),\n",
        "    num_parallel_calls=4)\n",
        "int_test_ds = test_ds.map(\n",
        "    lambda x, y: (text_vectorization(x), y),\n",
        "    num_parallel_calls=4)"
      ]
    },
    {
      "cell_type": "markdown",
      "metadata": {
        "id": "NW0_KDINzGmi"
      },
      "source": [
        "**A sequence model built on one-hot encoded vector sequences**"
      ]
    },
    {
      "cell_type": "code",
      "execution_count": 56,
      "metadata": {
        "colab": {
          "base_uri": "https://localhost:8080/"
        },
        "id": "f-iSMHSpzGmi",
        "outputId": "8b603792-808a-453a-9d0b-f04895a9f711"
      },
      "outputs": [
        {
          "output_type": "stream",
          "name": "stdout",
          "text": [
            "Model: \"model_16\"\n",
            "_________________________________________________________________\n",
            " Layer (type)                Output Shape              Param #   \n",
            "=================================================================\n",
            " input_17 (InputLayer)       [(None, None)]            0         \n",
            "                                                                 \n",
            " tf.one_hot_4 (TFOpLambda)   (None, None, 10000)       0         \n",
            "                                                                 \n",
            " bidirectional_16 (Bidirecti  (None, 64)               2568448   \n",
            " onal)                                                           \n",
            "                                                                 \n",
            " dropout_16 (Dropout)        (None, 64)                0         \n",
            "                                                                 \n",
            " dense_16 (Dense)            (None, 1)                 65        \n",
            "                                                                 \n",
            "=================================================================\n",
            "Total params: 2,568,513\n",
            "Trainable params: 2,568,513\n",
            "Non-trainable params: 0\n",
            "_________________________________________________________________\n"
          ]
        }
      ],
      "source": [
        "import tensorflow as tf\n",
        "inputs = keras.Input(shape=(None,), dtype=\"int64\")\n",
        "embedded = tf.one_hot(inputs, depth=max_tokens)\n",
        "x = layers.Bidirectional(layers.LSTM(32))(embedded)\n",
        "x = layers.Dropout(0.5)(x)\n",
        "outputs = layers.Dense(1, activation=\"sigmoid\")(x)\n",
        "model = keras.Model(inputs, outputs)\n",
        "model.compile(optimizer=\"rmsprop\",\n",
        "              loss=\"binary_crossentropy\",\n",
        "              metrics=[\"accuracy\"])\n",
        "model.summary()"
      ]
    },
    {
      "cell_type": "markdown",
      "metadata": {
        "id": "Qxx38lKpzGmj"
      },
      "source": [
        "**Training a first basic sequence model**"
      ]
    },
    {
      "cell_type": "code",
      "execution_count": 57,
      "metadata": {
        "colab": {
          "base_uri": "https://localhost:8080/"
        },
        "id": "7OIXK-lWzGmj",
        "outputId": "b0b40c03-c10a-47aa-c6dd-6220eb9e3807"
      },
      "outputs": [
        {
          "output_type": "stream",
          "name": "stdout",
          "text": [
            "Epoch 1/10\n",
            "625/625 [==============================] - 32s 43ms/step - loss: 0.5360 - accuracy: 0.7286 - val_loss: 0.4814 - val_accuracy: 0.8086\n",
            "Epoch 2/10\n",
            "625/625 [==============================] - 28s 45ms/step - loss: 0.3649 - accuracy: 0.8547 - val_loss: 0.3880 - val_accuracy: 0.8434\n",
            "Epoch 3/10\n",
            "625/625 [==============================] - 26s 41ms/step - loss: 0.3072 - accuracy: 0.8824 - val_loss: 0.4818 - val_accuracy: 0.8150\n",
            "Epoch 4/10\n",
            "625/625 [==============================] - 26s 41ms/step - loss: 0.2722 - accuracy: 0.8992 - val_loss: 0.3965 - val_accuracy: 0.8294\n",
            "Epoch 5/10\n",
            "625/625 [==============================] - 26s 41ms/step - loss: 0.2417 - accuracy: 0.9125 - val_loss: 0.4002 - val_accuracy: 0.8526\n",
            "Epoch 6/10\n",
            "625/625 [==============================] - 28s 44ms/step - loss: 0.2151 - accuracy: 0.9226 - val_loss: 0.4100 - val_accuracy: 0.8292\n",
            "Epoch 7/10\n",
            "625/625 [==============================] - 28s 45ms/step - loss: 0.1828 - accuracy: 0.9351 - val_loss: 0.4713 - val_accuracy: 0.8374\n",
            "Epoch 8/10\n",
            "625/625 [==============================] - 28s 44ms/step - loss: 0.1578 - accuracy: 0.9466 - val_loss: 0.5225 - val_accuracy: 0.8386\n",
            "Epoch 9/10\n",
            "625/625 [==============================] - 26s 41ms/step - loss: 0.1273 - accuracy: 0.9568 - val_loss: 0.4625 - val_accuracy: 0.8402\n",
            "Epoch 10/10\n",
            "625/625 [==============================] - 26s 41ms/step - loss: 0.1017 - accuracy: 0.9669 - val_loss: 0.5947 - val_accuracy: 0.8254\n",
            "782/782 [==============================] - 17s 21ms/step - loss: 0.4063 - accuracy: 0.8332\n",
            "Test acc: 0.833\n"
          ]
        }
      ],
      "source": [
        "callbacks = [\n",
        "    keras.callbacks.ModelCheckpoint(\"one_hot_bidir_lstm.keras\",\n",
        "                                    save_best_only=True)\n",
        "]\n",
        "model.fit(int_train_ds, validation_data=int_val_ds, epochs=10, callbacks=callbacks)\n",
        "model = keras.models.load_model(\"one_hot_bidir_lstm.keras\")\n",
        "print(f\"Test acc: {model.evaluate(int_test_ds)[1]:.3f}\")"
      ]
    },
    {
      "cell_type": "markdown",
      "metadata": {
        "id": "JKW0yb6AzGmj"
      },
      "source": [
        "#### Understanding word embeddings"
      ]
    },
    {
      "cell_type": "markdown",
      "metadata": {
        "id": "3irO5M27zGmj"
      },
      "source": [
        "#### Learning word embeddings with the Embedding layer"
      ]
    },
    {
      "cell_type": "markdown",
      "metadata": {
        "id": "owQ7BSI-zGmj"
      },
      "source": [
        "**Instantiating an `Embedding` layer**"
      ]
    },
    {
      "cell_type": "code",
      "execution_count": 58,
      "metadata": {
        "id": "pD3uFbWIzGmk"
      },
      "outputs": [],
      "source": [
        "embedding_layer = layers.Embedding(input_dim=max_tokens, output_dim=256)"
      ]
    },
    {
      "cell_type": "markdown",
      "metadata": {
        "id": "QPJtdlrAzGmk"
      },
      "source": [
        "**Model that uses an `Embedding` layer trained from scratch**"
      ]
    },
    {
      "cell_type": "code",
      "execution_count": 59,
      "metadata": {
        "colab": {
          "base_uri": "https://localhost:8080/"
        },
        "id": "9p6u4IAOzGmk",
        "outputId": "2d150b65-d3a2-4ee7-bd37-39f42b297f47"
      },
      "outputs": [
        {
          "output_type": "stream",
          "name": "stdout",
          "text": [
            "Model: \"model_17\"\n",
            "_________________________________________________________________\n",
            " Layer (type)                Output Shape              Param #   \n",
            "=================================================================\n",
            " input_18 (InputLayer)       [(None, None)]            0         \n",
            "                                                                 \n",
            " embedding_17 (Embedding)    (None, None, 256)         2560000   \n",
            "                                                                 \n",
            " bidirectional_17 (Bidirecti  (None, 64)               73984     \n",
            " onal)                                                           \n",
            "                                                                 \n",
            " dropout_17 (Dropout)        (None, 64)                0         \n",
            "                                                                 \n",
            " dense_17 (Dense)            (None, 1)                 65        \n",
            "                                                                 \n",
            "=================================================================\n",
            "Total params: 2,634,049\n",
            "Trainable params: 2,634,049\n",
            "Non-trainable params: 0\n",
            "_________________________________________________________________\n",
            "Epoch 1/10\n",
            "625/625 [==============================] - 37s 54ms/step - loss: 0.5129 - accuracy: 0.7448 - val_loss: 0.4163 - val_accuracy: 0.8184\n",
            "Epoch 2/10\n",
            "625/625 [==============================] - 13s 22ms/step - loss: 0.3526 - accuracy: 0.8563 - val_loss: 0.3915 - val_accuracy: 0.8300\n",
            "Epoch 3/10\n",
            "625/625 [==============================] - 13s 20ms/step - loss: 0.2931 - accuracy: 0.8849 - val_loss: 0.3836 - val_accuracy: 0.8396\n",
            "Epoch 4/10\n",
            "625/625 [==============================] - 12s 19ms/step - loss: 0.2542 - accuracy: 0.9028 - val_loss: 0.3725 - val_accuracy: 0.8396\n",
            "Epoch 5/10\n",
            "625/625 [==============================] - 11s 18ms/step - loss: 0.2179 - accuracy: 0.9194 - val_loss: 0.4147 - val_accuracy: 0.8382\n",
            "Epoch 6/10\n",
            "625/625 [==============================] - 11s 18ms/step - loss: 0.1906 - accuracy: 0.9304 - val_loss: 0.4140 - val_accuracy: 0.8404\n",
            "Epoch 7/10\n",
            "625/625 [==============================] - 11s 17ms/step - loss: 0.1631 - accuracy: 0.9418 - val_loss: 0.5072 - val_accuracy: 0.8336\n",
            "Epoch 8/10\n",
            "625/625 [==============================] - 11s 18ms/step - loss: 0.1366 - accuracy: 0.9507 - val_loss: 0.5432 - val_accuracy: 0.8262\n",
            "Epoch 9/10\n",
            "625/625 [==============================] - 11s 17ms/step - loss: 0.1181 - accuracy: 0.9592 - val_loss: 0.6823 - val_accuracy: 0.8204\n",
            "Epoch 10/10\n",
            "625/625 [==============================] - 11s 17ms/step - loss: 0.0912 - accuracy: 0.9692 - val_loss: 0.6130 - val_accuracy: 0.8296\n",
            "782/782 [==============================] - 8s 8ms/step - loss: 0.3966 - accuracy: 0.8316\n",
            "Test acc: 0.832\n"
          ]
        }
      ],
      "source": [
        "inputs = keras.Input(shape=(None,), dtype=\"int64\")\n",
        "embedded = layers.Embedding(input_dim=max_tokens, output_dim=256)(inputs)\n",
        "x = layers.Bidirectional(layers.LSTM(32))(embedded)\n",
        "x = layers.Dropout(0.5)(x)\n",
        "outputs = layers.Dense(1, activation=\"sigmoid\")(x)\n",
        "model = keras.Model(inputs, outputs)\n",
        "model.compile(optimizer=\"rmsprop\",\n",
        "              loss=\"binary_crossentropy\",\n",
        "              metrics=[\"accuracy\"])\n",
        "model.summary()\n",
        "\n",
        "callbacks = [\n",
        "    keras.callbacks.ModelCheckpoint(\"embeddings_bidir_gru.keras\",\n",
        "                                    save_best_only=True)\n",
        "]\n",
        "model.fit(int_train_ds, validation_data=int_val_ds, epochs=10, callbacks=callbacks)\n",
        "model = keras.models.load_model(\"embeddings_bidir_gru.keras\")\n",
        "print(f\"Test acc: {model.evaluate(int_test_ds)[1]:.3f}\")"
      ]
    },
    {
      "cell_type": "markdown",
      "metadata": {
        "id": "UgXEL3cMzGmk"
      },
      "source": [
        "#### Understanding padding and masking"
      ]
    },
    {
      "cell_type": "markdown",
      "metadata": {
        "id": "0bY8zog-zGmk"
      },
      "source": [
        "**Using an `Embedding` layer with masking enabled**"
      ]
    },
    {
      "cell_type": "code",
      "execution_count": 60,
      "metadata": {
        "colab": {
          "base_uri": "https://localhost:8080/"
        },
        "id": "RbdnbIVVzGmk",
        "outputId": "952a9380-c72e-4098-9182-59b8efdff7b1"
      },
      "outputs": [
        {
          "output_type": "stream",
          "name": "stdout",
          "text": [
            "Model: \"model_18\"\n",
            "_________________________________________________________________\n",
            " Layer (type)                Output Shape              Param #   \n",
            "=================================================================\n",
            " input_19 (InputLayer)       [(None, None)]            0         \n",
            "                                                                 \n",
            " embedding_18 (Embedding)    (None, None, 256)         2560000   \n",
            "                                                                 \n",
            " bidirectional_18 (Bidirecti  (None, 64)               73984     \n",
            " onal)                                                           \n",
            "                                                                 \n",
            " dropout_18 (Dropout)        (None, 64)                0         \n",
            "                                                                 \n",
            " dense_18 (Dense)            (None, 1)                 65        \n",
            "                                                                 \n",
            "=================================================================\n",
            "Total params: 2,634,049\n",
            "Trainable params: 2,634,049\n",
            "Non-trainable params: 0\n",
            "_________________________________________________________________\n",
            "Epoch 1/10\n",
            "625/625 [==============================] - 48s 63ms/step - loss: 0.4931 - accuracy: 0.7534 - val_loss: 0.5115 - val_accuracy: 0.7792\n",
            "Epoch 2/10\n",
            "625/625 [==============================] - 19s 31ms/step - loss: 0.3324 - accuracy: 0.8615 - val_loss: 0.3634 - val_accuracy: 0.8474\n",
            "Epoch 3/10\n",
            "625/625 [==============================] - 16s 26ms/step - loss: 0.2691 - accuracy: 0.8929 - val_loss: 0.3645 - val_accuracy: 0.8508\n",
            "Epoch 4/10\n",
            "625/625 [==============================] - 16s 25ms/step - loss: 0.2167 - accuracy: 0.9170 - val_loss: 0.4158 - val_accuracy: 0.8192\n",
            "Epoch 5/10\n",
            "625/625 [==============================] - 17s 28ms/step - loss: 0.1747 - accuracy: 0.9359 - val_loss: 0.4225 - val_accuracy: 0.8296\n",
            "Epoch 6/10\n",
            "625/625 [==============================] - 15s 24ms/step - loss: 0.1348 - accuracy: 0.9522 - val_loss: 0.4793 - val_accuracy: 0.8310\n",
            "Epoch 7/10\n",
            "625/625 [==============================] - 15s 25ms/step - loss: 0.1094 - accuracy: 0.9598 - val_loss: 0.6196 - val_accuracy: 0.8308\n",
            "Epoch 8/10\n",
            "625/625 [==============================] - 16s 25ms/step - loss: 0.0877 - accuracy: 0.9710 - val_loss: 0.6276 - val_accuracy: 0.8258\n",
            "Epoch 9/10\n",
            "625/625 [==============================] - 15s 24ms/step - loss: 0.0678 - accuracy: 0.9773 - val_loss: 0.6785 - val_accuracy: 0.8232\n",
            "Epoch 10/10\n",
            "625/625 [==============================] - 16s 25ms/step - loss: 0.0528 - accuracy: 0.9816 - val_loss: 0.8265 - val_accuracy: 0.8180\n",
            "782/782 [==============================] - 10s 10ms/step - loss: 0.3760 - accuracy: 0.8402\n",
            "Test acc: 0.840\n"
          ]
        }
      ],
      "source": [
        "inputs = keras.Input(shape=(None,), dtype=\"int64\")\n",
        "embedded = layers.Embedding(\n",
        "    input_dim=max_tokens, output_dim=256, mask_zero=True)(inputs)\n",
        "x = layers.Bidirectional(layers.LSTM(32))(embedded)\n",
        "x = layers.Dropout(0.5)(x)\n",
        "outputs = layers.Dense(1, activation=\"sigmoid\")(x)\n",
        "model = keras.Model(inputs, outputs)\n",
        "model.compile(optimizer=\"rmsprop\",\n",
        "              loss=\"binary_crossentropy\",\n",
        "              metrics=[\"accuracy\"])\n",
        "model.summary()\n",
        "\n",
        "callbacks = [\n",
        "    keras.callbacks.ModelCheckpoint(\"embeddings_bidir_gru_with_masking.keras\",\n",
        "                                    save_best_only=True)\n",
        "]\n",
        "model.fit(int_train_ds, validation_data=int_val_ds, epochs=10, callbacks=callbacks)\n",
        "model = keras.models.load_model(\"embeddings_bidir_gru_with_masking.keras\")\n",
        "print(f\"Test acc: {model.evaluate(int_test_ds)[1]:.3f}\")"
      ]
    },
    {
      "cell_type": "markdown",
      "metadata": {
        "id": "R-6H4f9mzGmk"
      },
      "source": [
        "#### Using pretrained word embeddings"
      ]
    },
    {
      "cell_type": "code",
      "execution_count": 61,
      "metadata": {
        "id": "hBk_S_fOzGml"
      },
      "outputs": [],
      "source": [
        "# !wget http://nlp.stanford.edu/data/glove.6B.zip\n",
        "# !unzip -q glove.6B.zip"
      ]
    },
    {
      "cell_type": "markdown",
      "metadata": {
        "id": "iiWORA7xzGml"
      },
      "source": [
        "**Parsing the GloVe word-embeddings file**"
      ]
    },
    {
      "cell_type": "code",
      "execution_count": 62,
      "metadata": {
        "colab": {
          "base_uri": "https://localhost:8080/"
        },
        "id": "1YcJ2fRNzGml",
        "outputId": "f8d315dc-0978-49ad-e7a7-357806a84198"
      },
      "outputs": [
        {
          "output_type": "stream",
          "name": "stdout",
          "text": [
            "Found 400000 word vectors.\n"
          ]
        }
      ],
      "source": [
        "import numpy as np\n",
        "path_to_glove_file = \"glove.6B.100d.txt\"\n",
        "\n",
        "embeddings_index = {}\n",
        "with open(path_to_glove_file) as f:\n",
        "    for line in f:\n",
        "        word, coefs = line.split(maxsplit=1)\n",
        "        coefs = np.fromstring(coefs, \"f\", sep=\" \")\n",
        "        embeddings_index[word] = coefs\n",
        "\n",
        "print(f\"Found {len(embeddings_index)} word vectors.\")"
      ]
    },
    {
      "cell_type": "markdown",
      "metadata": {
        "id": "ImAboinezGml"
      },
      "source": [
        "**Preparing the GloVe word-embeddings matrix**"
      ]
    },
    {
      "cell_type": "code",
      "execution_count": 63,
      "metadata": {
        "id": "OFNdbkIozGmm"
      },
      "outputs": [],
      "source": [
        "embedding_dim = 100\n",
        "\n",
        "vocabulary = text_vectorization.get_vocabulary()\n",
        "word_index = dict(zip(vocabulary, range(len(vocabulary))))\n",
        "\n",
        "embedding_matrix = np.zeros((max_tokens, embedding_dim))\n",
        "for word, i in word_index.items():\n",
        "    if i < max_tokens:\n",
        "        embedding_vector = embeddings_index.get(word)\n",
        "    if embedding_vector is not None:\n",
        "        embedding_matrix[i] = embedding_vector"
      ]
    },
    {
      "cell_type": "code",
      "execution_count": 64,
      "metadata": {
        "id": "GIVFqwHhzGmm"
      },
      "outputs": [],
      "source": [
        "embedding_layer = layers.Embedding(\n",
        "    max_tokens,\n",
        "    embedding_dim,\n",
        "    embeddings_initializer=keras.initializers.Constant(embedding_matrix),\n",
        "    trainable=False,\n",
        "    mask_zero=True,\n",
        ")"
      ]
    },
    {
      "cell_type": "markdown",
      "metadata": {
        "id": "MulNB9RFzGmm"
      },
      "source": [
        "**Model that uses a pretrained Embedding layer**"
      ]
    },
    {
      "cell_type": "code",
      "execution_count": 65,
      "metadata": {
        "id": "i5JzwvyuzGmm",
        "colab": {
          "base_uri": "https://localhost:8080/"
        },
        "outputId": "9788c0f8-1bae-4284-ce22-e7ab5a09e7ed"
      },
      "outputs": [
        {
          "output_type": "stream",
          "name": "stdout",
          "text": [
            "Model: \"model_19\"\n",
            "_________________________________________________________________\n",
            " Layer (type)                Output Shape              Param #   \n",
            "=================================================================\n",
            " input_20 (InputLayer)       [(None, None)]            0         \n",
            "                                                                 \n",
            " embedding_19 (Embedding)    (None, None, 100)         1000000   \n",
            "                                                                 \n",
            " bidirectional_19 (Bidirecti  (None, 64)               34048     \n",
            " onal)                                                           \n",
            "                                                                 \n",
            " dropout_19 (Dropout)        (None, 64)                0         \n",
            "                                                                 \n",
            " dense_19 (Dense)            (None, 1)                 65        \n",
            "                                                                 \n",
            "=================================================================\n",
            "Total params: 1,034,113\n",
            "Trainable params: 34,113\n",
            "Non-trainable params: 1,000,000\n",
            "_________________________________________________________________\n",
            "Epoch 1/10\n",
            "625/625 [==============================] - 26s 29ms/step - loss: 0.5949 - accuracy: 0.6747 - val_loss: 0.5285 - val_accuracy: 0.7378\n",
            "Epoch 2/10\n",
            "625/625 [==============================] - 15s 24ms/step - loss: 0.4874 - accuracy: 0.7728 - val_loss: 0.4533 - val_accuracy: 0.7912\n",
            "Epoch 3/10\n",
            "625/625 [==============================] - 15s 23ms/step - loss: 0.4446 - accuracy: 0.7957 - val_loss: 0.4647 - val_accuracy: 0.7790\n",
            "Epoch 4/10\n",
            "625/625 [==============================] - 15s 24ms/step - loss: 0.4169 - accuracy: 0.8111 - val_loss: 0.4357 - val_accuracy: 0.7980\n",
            "Epoch 5/10\n",
            "625/625 [==============================] - 15s 23ms/step - loss: 0.3942 - accuracy: 0.8225 - val_loss: 0.4402 - val_accuracy: 0.7936\n",
            "Epoch 6/10\n",
            "625/625 [==============================] - 15s 25ms/step - loss: 0.3786 - accuracy: 0.8310 - val_loss: 0.4112 - val_accuracy: 0.8144\n",
            "Epoch 7/10\n",
            "625/625 [==============================] - 15s 24ms/step - loss: 0.3601 - accuracy: 0.8422 - val_loss: 0.3754 - val_accuracy: 0.8296\n",
            "Epoch 8/10\n",
            "625/625 [==============================] - 14s 23ms/step - loss: 0.3449 - accuracy: 0.8489 - val_loss: 0.3760 - val_accuracy: 0.8288\n",
            "Epoch 9/10\n",
            "625/625 [==============================] - 14s 23ms/step - loss: 0.3328 - accuracy: 0.8566 - val_loss: 0.3885 - val_accuracy: 0.8312\n",
            "Epoch 10/10\n",
            "625/625 [==============================] - 14s 23ms/step - loss: 0.3186 - accuracy: 0.8632 - val_loss: 0.3818 - val_accuracy: 0.8310\n",
            "782/782 [==============================] - 10s 11ms/step - loss: 0.3708 - accuracy: 0.8332\n",
            "Test acc: 0.833\n"
          ]
        }
      ],
      "source": [
        "inputs = keras.Input(shape=(None,), dtype=\"int64\")\n",
        "embedded = embedding_layer(inputs)\n",
        "x = layers.Bidirectional(layers.LSTM(32))(embedded)\n",
        "x = layers.Dropout(0.5)(x)\n",
        "outputs = layers.Dense(1, activation=\"sigmoid\")(x)\n",
        "model = keras.Model(inputs, outputs)\n",
        "model.compile(optimizer=\"rmsprop\",\n",
        "              loss=\"binary_crossentropy\",\n",
        "              metrics=[\"accuracy\"])\n",
        "model.summary()\n",
        "\n",
        "callbacks = [\n",
        "    keras.callbacks.ModelCheckpoint(\"glove_embeddings_sequence_model.keras\",\n",
        "                                    save_best_only=True)\n",
        "]\n",
        "model.fit(int_train_ds, validation_data=int_val_ds, epochs=10, callbacks=callbacks)\n",
        "model = keras.models.load_model(\"glove_embeddings_sequence_model.keras\")\n",
        "print(f\"Test acc: {model.evaluate(int_test_ds)[1]:.3f}\")"
      ]
    },
    {
      "cell_type": "code",
      "execution_count": 65,
      "metadata": {
        "id": "X1wvzq7qC667"
      },
      "outputs": [],
      "source": []
    }
  ],
  "metadata": {
    "accelerator": "GPU",
    "colab": {
      "provenance": []
    },
    "gpuClass": "standard",
    "kernelspec": {
      "display_name": "Python 3",
      "language": "python",
      "name": "python3"
    },
    "language_info": {
      "codemirror_mode": {
        "name": "ipython",
        "version": 3
      },
      "file_extension": ".py",
      "mimetype": "text/x-python",
      "name": "python",
      "nbconvert_exporter": "python",
      "pygments_lexer": "ipython3",
      "version": "3.7.0"
    }
  },
  "nbformat": 4,
  "nbformat_minor": 0
}