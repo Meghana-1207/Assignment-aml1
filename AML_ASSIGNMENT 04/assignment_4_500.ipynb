{
  "cells": [
    {
      "cell_type": "markdown",
      "metadata": {
        "id": "W6LBlBctzGmd"
      },
      "source": [
        "This is a companion notebook for the book [Deep Learning with Python, Second Edition](https://www.manning.com/books/deep-learning-with-python-second-edition?a_aid=keras&a_bid=76564dff). For readability, it only contains runnable code blocks and section titles, and omits everything else in the book: text paragraphs, figures, and pseudocode.\n",
        "\n",
        "**If you want to be able to follow what's going on, I recommend reading the notebook side by side with your copy of the book.**\n",
        "\n",
        "This notebook was generated for TensorFlow 2.6."
      ]
    },
    {
      "cell_type": "markdown",
      "metadata": {
        "id": "54WiKpXbzGmf"
      },
      "source": [
        "### Processing words as a sequence: The sequence model approach"
      ]
    },
    {
      "cell_type": "markdown",
      "metadata": {
        "id": "0Traj_ewzGmg"
      },
      "source": [
        "#### A first practical example"
      ]
    },
    {
      "cell_type": "markdown",
      "metadata": {
        "id": "rmpIJo6SzGmg"
      },
      "source": [
        "**Downloading the data**"
      ]
    },
    {
      "cell_type": "code",
      "execution_count": 14,
      "metadata": {
        "id": "aFVsVWKYzGmg"
      },
      "outputs": [],
      "source": [
        "#!curl -O https://ai.stanford.edu/~amaas/data/sentiment/aclImdb_v1.tar.gz\n",
        "#!tar -xf aclImdb_v1.tar.gz\n",
        "#!rm -r aclImdb/train/unsup"
      ]
    },
    {
      "cell_type": "markdown",
      "metadata": {
        "id": "GUIVQxlwzGmh"
      },
      "source": [
        "**Preparing the data**\n",
        "\n",
        "\n",
        "\n",
        "\n",
        "\n",
        "\n",
        "\n",
        "\n",
        "\n",
        "\n",
        "\n",
        "\n",
        "\n",
        "\n",
        "\n",
        "\n",
        "\n",
        "\n",
        "\n",
        "\n",
        "\n",
        "\n",
        "\n",
        "\n",
        "\n",
        "\n",
        "\n",
        "\n"
      ]
    },
    {
      "cell_type": "code",
      "execution_count": 15,
      "metadata": {
        "id": "ffrBYuBgzGmh"
      },
      "outputs": [],
      "source": [
        "# import os, pathlib, shutil, random\n",
        "# from tensorflow import keras\n",
        "# batch_size = 32\n",
        "# base_dir = pathlib.Path(\"aclImdb\")\n",
        "# val_dir = base_dir / \"val\"\n",
        "# train_dir = base_dir / \"train\"\n",
        "# for category in (\"neg\", \"pos\"):\n",
        "#     os.makedirs(val_dir / category)\n",
        "#     files = os.listdir(train_dir / category)\n",
        "#     random.Random(1337).shuffle(files)\n",
        "#     num_val_samples = int(0.2 * len(files))\n",
        "#     val_files = files[-num_val_samples:]\n",
        "#     for fname in val_files:\n",
        "#         shutil.move(train_dir / category / fname,\n",
        "#                     val_dir / category / fname)"
      ]
    },
    {
      "cell_type": "markdown",
      "metadata": {
        "id": "ZeGtpjsSzGmi"
      },
      "source": [
        "**Preparing integer sequence datasets**"
      ]
    },
    {
      "cell_type": "code",
      "execution_count": 16,
      "metadata": {
        "colab": {
          "base_uri": "https://localhost:8080/"
        },
        "id": "C0gv2-hXzGmi",
        "outputId": "57068905-09f9-4700-aa72-4ed6121a2eac"
      },
      "outputs": [
        {
          "output_type": "stream",
          "name": "stdout",
          "text": [
            "Found 20000 files belonging to 2 classes.\n",
            "Found 5000 files belonging to 2 classes.\n",
            "Found 25000 files belonging to 2 classes.\n"
          ]
        }
      ],
      "source": [
        "train_ds = keras.utils.text_dataset_from_directory(\n",
        "    \"aclImdb/train\", batch_size=batch_size\n",
        ")\n",
        "\n",
        "val_ds = keras.utils.text_dataset_from_directory(\n",
        "    \"aclImdb/val\", batch_size=batch_size\n",
        ")\n",
        "\n",
        "test_ds = keras.utils.text_dataset_from_directory(\n",
        "    \"aclImdb/test\", batch_size=batch_size\n",
        ")\n",
        "text_only_train_ds = train_ds.map(lambda x, y: x)\n",
        "from tensorflow.keras import layers\n",
        "\n",
        "max_length = 150\n",
        "max_tokens = 10000\n",
        "text_vectorization = layers.TextVectorization(\n",
        "    max_tokens=max_tokens,\n",
        "    output_mode=\"int\",\n",
        "    output_sequence_length=max_length,\n",
        ")\n",
        "text_vectorization.adapt(text_only_train_ds)\n",
        "\n",
        "train_ds = train_ds.take(500) # change train samples\n",
        "int_train_ds = train_ds.map(\n",
        "    lambda x, y: (text_vectorization(x), y),\n",
        "    num_parallel_calls=4)\n",
        "val_ds = val_ds.take(10000)\n",
        "int_val_ds = val_ds.map(\n",
        "    lambda x, y: (text_vectorization(x), y),\n",
        "    num_parallel_calls=4)\n",
        "int_test_ds = test_ds.map(\n",
        "    lambda x, y: (text_vectorization(x), y),\n",
        "    num_parallel_calls=4)"
      ]
    },
    {
      "cell_type": "markdown",
      "metadata": {
        "id": "NW0_KDINzGmi"
      },
      "source": [
        "**A sequence model built on one-hot encoded vector sequences**"
      ]
    },
    {
      "cell_type": "code",
      "execution_count": 17,
      "metadata": {
        "colab": {
          "base_uri": "https://localhost:8080/"
        },
        "id": "f-iSMHSpzGmi",
        "outputId": "c32d45b5-1cee-4585-a97a-4b6160b0b6c6"
      },
      "outputs": [
        {
          "output_type": "stream",
          "name": "stdout",
          "text": [
            "Model: \"model_4\"\n",
            "_________________________________________________________________\n",
            " Layer (type)                Output Shape              Param #   \n",
            "=================================================================\n",
            " input_5 (InputLayer)        [(None, None)]            0         \n",
            "                                                                 \n",
            " tf.one_hot_1 (TFOpLambda)   (None, None, 10000)       0         \n",
            "                                                                 \n",
            " bidirectional_4 (Bidirectio  (None, 64)               2568448   \n",
            " nal)                                                            \n",
            "                                                                 \n",
            " dropout_4 (Dropout)         (None, 64)                0         \n",
            "                                                                 \n",
            " dense_4 (Dense)             (None, 1)                 65        \n",
            "                                                                 \n",
            "=================================================================\n",
            "Total params: 2,568,513\n",
            "Trainable params: 2,568,513\n",
            "Non-trainable params: 0\n",
            "_________________________________________________________________\n"
          ]
        }
      ],
      "source": [
        "import tensorflow as tf\n",
        "inputs = keras.Input(shape=(None,), dtype=\"int64\")\n",
        "embedded = tf.one_hot(inputs, depth=max_tokens)\n",
        "x = layers.Bidirectional(layers.LSTM(32))(embedded)\n",
        "x = layers.Dropout(0.5)(x)\n",
        "outputs = layers.Dense(1, activation=\"sigmoid\")(x)\n",
        "model = keras.Model(inputs, outputs)\n",
        "model.compile(optimizer=\"rmsprop\",\n",
        "              loss=\"binary_crossentropy\",\n",
        "              metrics=[\"accuracy\"])\n",
        "model.summary()"
      ]
    },
    {
      "cell_type": "markdown",
      "metadata": {
        "id": "Qxx38lKpzGmj"
      },
      "source": [
        "**Training a first basic sequence model**"
      ]
    },
    {
      "cell_type": "code",
      "execution_count": 18,
      "metadata": {
        "colab": {
          "base_uri": "https://localhost:8080/"
        },
        "id": "7OIXK-lWzGmj",
        "outputId": "9867edab-665a-4ff9-b584-204b730a49aa"
      },
      "outputs": [
        {
          "output_type": "stream",
          "name": "stdout",
          "text": [
            "Epoch 1/10\n",
            "500/500 [==============================] - 26s 44ms/step - loss: 0.5900 - accuracy: 0.6772 - val_loss: 0.4379 - val_accuracy: 0.8248\n",
            "Epoch 2/10\n",
            "500/500 [==============================] - 21s 43ms/step - loss: 0.3903 - accuracy: 0.8419 - val_loss: 0.3993 - val_accuracy: 0.8442\n",
            "Epoch 3/10\n",
            "500/500 [==============================] - 23s 47ms/step - loss: 0.3231 - accuracy: 0.8764 - val_loss: 0.3455 - val_accuracy: 0.8502\n",
            "Epoch 4/10\n",
            "500/500 [==============================] - 24s 48ms/step - loss: 0.2783 - accuracy: 0.8973 - val_loss: 0.4219 - val_accuracy: 0.8246\n",
            "Epoch 5/10\n",
            "500/500 [==============================] - 23s 47ms/step - loss: 0.2522 - accuracy: 0.9088 - val_loss: 0.3568 - val_accuracy: 0.8494\n",
            "Epoch 6/10\n",
            "500/500 [==============================] - 21s 42ms/step - loss: 0.2173 - accuracy: 0.9218 - val_loss: 0.3972 - val_accuracy: 0.8462\n",
            "Epoch 7/10\n",
            "500/500 [==============================] - 21s 43ms/step - loss: 0.1876 - accuracy: 0.9331 - val_loss: 0.3961 - val_accuracy: 0.8236\n",
            "Epoch 8/10\n",
            "500/500 [==============================] - 23s 46ms/step - loss: 0.1587 - accuracy: 0.9451 - val_loss: 0.4282 - val_accuracy: 0.8294\n",
            "Epoch 9/10\n",
            "500/500 [==============================] - 21s 42ms/step - loss: 0.1324 - accuracy: 0.9557 - val_loss: 0.4474 - val_accuracy: 0.8446\n",
            "Epoch 10/10\n",
            "500/500 [==============================] - 23s 47ms/step - loss: 0.1074 - accuracy: 0.9635 - val_loss: 0.5764 - val_accuracy: 0.8296\n",
            "782/782 [==============================] - 17s 20ms/step - loss: 0.3558 - accuracy: 0.8469\n",
            "Test acc: 0.847\n"
          ]
        }
      ],
      "source": [
        "callbacks = [\n",
        "    keras.callbacks.ModelCheckpoint(\"one_hot_bidir_lstm.keras\",\n",
        "                                    save_best_only=True)\n",
        "]\n",
        "model.fit(int_train_ds, validation_data=int_val_ds, epochs=10, callbacks=callbacks)\n",
        "model = keras.models.load_model(\"one_hot_bidir_lstm.keras\")\n",
        "print(f\"Test acc: {model.evaluate(int_test_ds)[1]:.3f}\")"
      ]
    },
    {
      "cell_type": "markdown",
      "metadata": {
        "id": "JKW0yb6AzGmj"
      },
      "source": [
        "#### Understanding word embeddings"
      ]
    },
    {
      "cell_type": "markdown",
      "metadata": {
        "id": "3irO5M27zGmj"
      },
      "source": [
        "#### Learning word embeddings with the Embedding layer"
      ]
    },
    {
      "cell_type": "markdown",
      "metadata": {
        "id": "owQ7BSI-zGmj"
      },
      "source": [
        "**Instantiating an `Embedding` layer**"
      ]
    },
    {
      "cell_type": "code",
      "execution_count": 19,
      "metadata": {
        "id": "pD3uFbWIzGmk"
      },
      "outputs": [],
      "source": [
        "embedding_layer = layers.Embedding(input_dim=max_tokens, output_dim=256)"
      ]
    },
    {
      "cell_type": "markdown",
      "metadata": {
        "id": "QPJtdlrAzGmk"
      },
      "source": [
        "**Model that uses an `Embedding` layer trained from scratch**"
      ]
    },
    {
      "cell_type": "code",
      "execution_count": 20,
      "metadata": {
        "colab": {
          "base_uri": "https://localhost:8080/"
        },
        "id": "9p6u4IAOzGmk",
        "outputId": "4aab45ae-ad9a-4786-dd18-967523037917"
      },
      "outputs": [
        {
          "output_type": "stream",
          "name": "stdout",
          "text": [
            "Model: \"model_5\"\n",
            "_________________________________________________________________\n",
            " Layer (type)                Output Shape              Param #   \n",
            "=================================================================\n",
            " input_6 (InputLayer)        [(None, None)]            0         \n",
            "                                                                 \n",
            " embedding_5 (Embedding)     (None, None, 256)         2560000   \n",
            "                                                                 \n",
            " bidirectional_5 (Bidirectio  (None, 64)               73984     \n",
            " nal)                                                            \n",
            "                                                                 \n",
            " dropout_5 (Dropout)         (None, 64)                0         \n",
            "                                                                 \n",
            " dense_5 (Dense)             (None, 1)                 65        \n",
            "                                                                 \n",
            "=================================================================\n",
            "Total params: 2,634,049\n",
            "Trainable params: 2,634,049\n",
            "Non-trainable params: 0\n",
            "_________________________________________________________________\n",
            "Epoch 1/10\n",
            "500/500 [==============================] - 33s 58ms/step - loss: 0.5356 - accuracy: 0.7286 - val_loss: 0.5178 - val_accuracy: 0.7994\n",
            "Epoch 2/10\n",
            "500/500 [==============================] - 13s 27ms/step - loss: 0.3705 - accuracy: 0.8514 - val_loss: 0.3658 - val_accuracy: 0.8406\n",
            "Epoch 3/10\n",
            "500/500 [==============================] - 11s 21ms/step - loss: 0.2955 - accuracy: 0.8865 - val_loss: 0.3875 - val_accuracy: 0.8388\n",
            "Epoch 4/10\n",
            "500/500 [==============================] - 11s 22ms/step - loss: 0.2555 - accuracy: 0.9044 - val_loss: 0.4457 - val_accuracy: 0.8016\n",
            "Epoch 5/10\n",
            "500/500 [==============================] - 10s 19ms/step - loss: 0.2204 - accuracy: 0.9176 - val_loss: 0.3966 - val_accuracy: 0.8368\n",
            "Epoch 6/10\n",
            "500/500 [==============================] - 9s 18ms/step - loss: 0.1874 - accuracy: 0.9330 - val_loss: 0.4460 - val_accuracy: 0.8366\n",
            "Epoch 7/10\n",
            "500/500 [==============================] - 9s 18ms/step - loss: 0.1586 - accuracy: 0.9436 - val_loss: 0.5431 - val_accuracy: 0.8100\n",
            "Epoch 8/10\n",
            "500/500 [==============================] - 10s 21ms/step - loss: 0.1361 - accuracy: 0.9521 - val_loss: 0.5154 - val_accuracy: 0.8298\n",
            "Epoch 9/10\n",
            "500/500 [==============================] - 8s 16ms/step - loss: 0.1087 - accuracy: 0.9621 - val_loss: 0.7147 - val_accuracy: 0.7894\n",
            "Epoch 10/10\n",
            "500/500 [==============================] - 10s 20ms/step - loss: 0.0910 - accuracy: 0.9694 - val_loss: 0.6897 - val_accuracy: 0.8270\n",
            "782/782 [==============================] - 8s 9ms/step - loss: 0.3782 - accuracy: 0.8332\n",
            "Test acc: 0.833\n"
          ]
        }
      ],
      "source": [
        "inputs = keras.Input(shape=(None,), dtype=\"int64\")\n",
        "embedded = layers.Embedding(input_dim=max_tokens, output_dim=256)(inputs)\n",
        "x = layers.Bidirectional(layers.LSTM(32))(embedded)\n",
        "x = layers.Dropout(0.5)(x)\n",
        "outputs = layers.Dense(1, activation=\"sigmoid\")(x)\n",
        "model = keras.Model(inputs, outputs)\n",
        "model.compile(optimizer=\"rmsprop\",\n",
        "              loss=\"binary_crossentropy\",\n",
        "              metrics=[\"accuracy\"])\n",
        "model.summary()\n",
        "\n",
        "callbacks = [\n",
        "    keras.callbacks.ModelCheckpoint(\"embeddings_bidir_gru.keras\",\n",
        "                                    save_best_only=True)\n",
        "]\n",
        "model.fit(int_train_ds, validation_data=int_val_ds, epochs=10, callbacks=callbacks)\n",
        "model = keras.models.load_model(\"embeddings_bidir_gru.keras\")\n",
        "print(f\"Test acc: {model.evaluate(int_test_ds)[1]:.3f}\")"
      ]
    },
    {
      "cell_type": "markdown",
      "metadata": {
        "id": "UgXEL3cMzGmk"
      },
      "source": [
        "#### Understanding padding and masking"
      ]
    },
    {
      "cell_type": "markdown",
      "metadata": {
        "id": "0bY8zog-zGmk"
      },
      "source": [
        "**Using an `Embedding` layer with masking enabled**"
      ]
    },
    {
      "cell_type": "code",
      "execution_count": 21,
      "metadata": {
        "colab": {
          "base_uri": "https://localhost:8080/"
        },
        "id": "RbdnbIVVzGmk",
        "outputId": "fd80f44c-2ed6-42ec-f89b-f4a8081e199b"
      },
      "outputs": [
        {
          "output_type": "stream",
          "name": "stdout",
          "text": [
            "Model: \"model_6\"\n",
            "_________________________________________________________________\n",
            " Layer (type)                Output Shape              Param #   \n",
            "=================================================================\n",
            " input_7 (InputLayer)        [(None, None)]            0         \n",
            "                                                                 \n",
            " embedding_6 (Embedding)     (None, None, 256)         2560000   \n",
            "                                                                 \n",
            " bidirectional_6 (Bidirectio  (None, 64)               73984     \n",
            " nal)                                                            \n",
            "                                                                 \n",
            " dropout_6 (Dropout)         (None, 64)                0         \n",
            "                                                                 \n",
            " dense_6 (Dense)             (None, 1)                 65        \n",
            "                                                                 \n",
            "=================================================================\n",
            "Total params: 2,634,049\n",
            "Trainable params: 2,634,049\n",
            "Non-trainable params: 0\n",
            "_________________________________________________________________\n",
            "Epoch 1/10\n",
            "500/500 [==============================] - 44s 70ms/step - loss: 0.5223 - accuracy: 0.7296 - val_loss: 0.3833 - val_accuracy: 0.8308\n",
            "Epoch 2/10\n",
            "500/500 [==============================] - 16s 33ms/step - loss: 0.3357 - accuracy: 0.8612 - val_loss: 0.3579 - val_accuracy: 0.8426\n",
            "Epoch 3/10\n",
            "500/500 [==============================] - 15s 30ms/step - loss: 0.2695 - accuracy: 0.8964 - val_loss: 0.3691 - val_accuracy: 0.8372\n",
            "Epoch 4/10\n",
            "500/500 [==============================] - 13s 26ms/step - loss: 0.2179 - accuracy: 0.9180 - val_loss: 0.4428 - val_accuracy: 0.8436\n",
            "Epoch 5/10\n",
            "500/500 [==============================] - 13s 25ms/step - loss: 0.1749 - accuracy: 0.9342 - val_loss: 0.4148 - val_accuracy: 0.8268\n",
            "Epoch 6/10\n",
            "500/500 [==============================] - 12s 24ms/step - loss: 0.1405 - accuracy: 0.9514 - val_loss: 0.4598 - val_accuracy: 0.8364\n",
            "Epoch 7/10\n",
            "500/500 [==============================] - 12s 24ms/step - loss: 0.1078 - accuracy: 0.9644 - val_loss: 0.4810 - val_accuracy: 0.8238\n",
            "Epoch 8/10\n",
            "500/500 [==============================] - 12s 25ms/step - loss: 0.0850 - accuracy: 0.9711 - val_loss: 0.6872 - val_accuracy: 0.8244\n",
            "Epoch 9/10\n",
            "500/500 [==============================] - 12s 24ms/step - loss: 0.0682 - accuracy: 0.9764 - val_loss: 0.6543 - val_accuracy: 0.8086\n",
            "Epoch 10/10\n",
            "500/500 [==============================] - 13s 25ms/step - loss: 0.0539 - accuracy: 0.9836 - val_loss: 0.6595 - val_accuracy: 0.8144\n",
            "782/782 [==============================] - 10s 9ms/step - loss: 0.3680 - accuracy: 0.8399\n",
            "Test acc: 0.840\n"
          ]
        }
      ],
      "source": [
        "inputs = keras.Input(shape=(None,), dtype=\"int64\")\n",
        "embedded = layers.Embedding(\n",
        "    input_dim=max_tokens, output_dim=256, mask_zero=True)(inputs)\n",
        "x = layers.Bidirectional(layers.LSTM(32))(embedded)\n",
        "x = layers.Dropout(0.5)(x)\n",
        "outputs = layers.Dense(1, activation=\"sigmoid\")(x)\n",
        "model = keras.Model(inputs, outputs)\n",
        "model.compile(optimizer=\"rmsprop\",\n",
        "              loss=\"binary_crossentropy\",\n",
        "              metrics=[\"accuracy\"])\n",
        "model.summary()\n",
        "\n",
        "callbacks = [\n",
        "    keras.callbacks.ModelCheckpoint(\"embeddings_bidir_gru_with_masking.keras\",\n",
        "                                    save_best_only=True)\n",
        "]\n",
        "model.fit(int_train_ds, validation_data=int_val_ds, epochs=10, callbacks=callbacks)\n",
        "model = keras.models.load_model(\"embeddings_bidir_gru_with_masking.keras\")\n",
        "print(f\"Test acc: {model.evaluate(int_test_ds)[1]:.3f}\")"
      ]
    },
    {
      "cell_type": "markdown",
      "metadata": {
        "id": "R-6H4f9mzGmk"
      },
      "source": [
        "#### Using pretrained word embeddings"
      ]
    },
    {
      "cell_type": "code",
      "execution_count": 22,
      "metadata": {
        "id": "hBk_S_fOzGml"
      },
      "outputs": [],
      "source": [
        "# !wget http://nlp.stanford.edu/data/glove.6B.zip\n",
        "# !unzip -q glove.6B.zip"
      ]
    },
    {
      "cell_type": "markdown",
      "metadata": {
        "id": "iiWORA7xzGml"
      },
      "source": [
        "**Parsing the GloVe word-embeddings file**"
      ]
    },
    {
      "cell_type": "code",
      "execution_count": 23,
      "metadata": {
        "colab": {
          "base_uri": "https://localhost:8080/"
        },
        "id": "1YcJ2fRNzGml",
        "outputId": "c56af0d3-cdf0-4ffa-cad4-fa769dbacba4"
      },
      "outputs": [
        {
          "output_type": "stream",
          "name": "stdout",
          "text": [
            "Found 400000 word vectors.\n"
          ]
        }
      ],
      "source": [
        "import numpy as np\n",
        "path_to_glove_file = \"glove.6B.100d.txt\"\n",
        "\n",
        "embeddings_index = {}\n",
        "with open(path_to_glove_file) as f:\n",
        "    for line in f:\n",
        "        word, coefs = line.split(maxsplit=1)\n",
        "        coefs = np.fromstring(coefs, \"f\", sep=\" \")\n",
        "        embeddings_index[word] = coefs\n",
        "\n",
        "print(f\"Found {len(embeddings_index)} word vectors.\")"
      ]
    },
    {
      "cell_type": "markdown",
      "metadata": {
        "id": "ImAboinezGml"
      },
      "source": [
        "**Preparing the GloVe word-embeddings matrix**"
      ]
    },
    {
      "cell_type": "code",
      "execution_count": 24,
      "metadata": {
        "id": "OFNdbkIozGmm"
      },
      "outputs": [],
      "source": [
        "embedding_dim = 100\n",
        "\n",
        "vocabulary = text_vectorization.get_vocabulary()\n",
        "word_index = dict(zip(vocabulary, range(len(vocabulary))))\n",
        "\n",
        "embedding_matrix = np.zeros((max_tokens, embedding_dim))\n",
        "for word, i in word_index.items():\n",
        "    if i < max_tokens:\n",
        "        embedding_vector = embeddings_index.get(word)\n",
        "    if embedding_vector is not None:\n",
        "        embedding_matrix[i] = embedding_vector"
      ]
    },
    {
      "cell_type": "code",
      "execution_count": 25,
      "metadata": {
        "id": "GIVFqwHhzGmm"
      },
      "outputs": [],
      "source": [
        "embedding_layer = layers.Embedding(\n",
        "    max_tokens,\n",
        "    embedding_dim,\n",
        "    embeddings_initializer=keras.initializers.Constant(embedding_matrix),\n",
        "    trainable=False,\n",
        "    mask_zero=True,\n",
        ")"
      ]
    },
    {
      "cell_type": "markdown",
      "metadata": {
        "id": "MulNB9RFzGmm"
      },
      "source": [
        "**Model that uses a pretrained Embedding layer**"
      ]
    },
    {
      "cell_type": "code",
      "execution_count": 26,
      "metadata": {
        "id": "i5JzwvyuzGmm",
        "colab": {
          "base_uri": "https://localhost:8080/"
        },
        "outputId": "9625e324-7960-4af1-c153-b830d452a6e3"
      },
      "outputs": [
        {
          "output_type": "stream",
          "name": "stdout",
          "text": [
            "Model: \"model_7\"\n",
            "_________________________________________________________________\n",
            " Layer (type)                Output Shape              Param #   \n",
            "=================================================================\n",
            " input_8 (InputLayer)        [(None, None)]            0         \n",
            "                                                                 \n",
            " embedding_7 (Embedding)     (None, None, 100)         1000000   \n",
            "                                                                 \n",
            " bidirectional_7 (Bidirectio  (None, 64)               34048     \n",
            " nal)                                                            \n",
            "                                                                 \n",
            " dropout_7 (Dropout)         (None, 64)                0         \n",
            "                                                                 \n",
            " dense_7 (Dense)             (None, 1)                 65        \n",
            "                                                                 \n",
            "=================================================================\n",
            "Total params: 1,034,113\n",
            "Trainable params: 34,113\n",
            "Non-trainable params: 1,000,000\n",
            "_________________________________________________________________\n",
            "Epoch 1/10\n",
            "500/500 [==============================] - 24s 31ms/step - loss: 0.6088 - accuracy: 0.6606 - val_loss: 0.5070 - val_accuracy: 0.7528\n",
            "Epoch 2/10\n",
            "500/500 [==============================] - 13s 25ms/step - loss: 0.5073 - accuracy: 0.7614 - val_loss: 0.4591 - val_accuracy: 0.7798\n",
            "Epoch 3/10\n",
            "500/500 [==============================] - 13s 25ms/step - loss: 0.4546 - accuracy: 0.7891 - val_loss: 0.4506 - val_accuracy: 0.7884\n",
            "Epoch 4/10\n",
            "500/500 [==============================] - 14s 29ms/step - loss: 0.4328 - accuracy: 0.7994 - val_loss: 0.4291 - val_accuracy: 0.7976\n",
            "Epoch 5/10\n",
            "500/500 [==============================] - 13s 26ms/step - loss: 0.4078 - accuracy: 0.8181 - val_loss: 0.4158 - val_accuracy: 0.8094\n",
            "Epoch 6/10\n",
            "500/500 [==============================] - 12s 24ms/step - loss: 0.3879 - accuracy: 0.8240 - val_loss: 0.4333 - val_accuracy: 0.8070\n",
            "Epoch 7/10\n",
            "500/500 [==============================] - 13s 26ms/step - loss: 0.3707 - accuracy: 0.8311 - val_loss: 0.4047 - val_accuracy: 0.8148\n",
            "Epoch 8/10\n",
            "500/500 [==============================] - 13s 25ms/step - loss: 0.3546 - accuracy: 0.8455 - val_loss: 0.3964 - val_accuracy: 0.8226\n",
            "Epoch 9/10\n",
            "500/500 [==============================] - 13s 26ms/step - loss: 0.3431 - accuracy: 0.8502 - val_loss: 0.3857 - val_accuracy: 0.8306\n",
            "Epoch 10/10\n",
            "500/500 [==============================] - 13s 25ms/step - loss: 0.3263 - accuracy: 0.8612 - val_loss: 0.3984 - val_accuracy: 0.8226\n",
            "782/782 [==============================] - 11s 11ms/step - loss: 0.3730 - accuracy: 0.8325\n",
            "Test acc: 0.833\n"
          ]
        }
      ],
      "source": [
        "inputs = keras.Input(shape=(None,), dtype=\"int64\")\n",
        "embedded = embedding_layer(inputs)\n",
        "x = layers.Bidirectional(layers.LSTM(32))(embedded)\n",
        "x = layers.Dropout(0.5)(x)\n",
        "outputs = layers.Dense(1, activation=\"sigmoid\")(x)\n",
        "model = keras.Model(inputs, outputs)\n",
        "model.compile(optimizer=\"rmsprop\",\n",
        "              loss=\"binary_crossentropy\",\n",
        "              metrics=[\"accuracy\"])\n",
        "model.summary()\n",
        "\n",
        "callbacks = [\n",
        "    keras.callbacks.ModelCheckpoint(\"glove_embeddings_sequence_model.keras\",\n",
        "                                    save_best_only=True)\n",
        "]\n",
        "model.fit(int_train_ds, validation_data=int_val_ds, epochs=10, callbacks=callbacks)\n",
        "model = keras.models.load_model(\"glove_embeddings_sequence_model.keras\")\n",
        "print(f\"Test acc: {model.evaluate(int_test_ds)[1]:.3f}\")"
      ]
    },
    {
      "cell_type": "code",
      "execution_count": 26,
      "metadata": {
        "id": "X1wvzq7qC667"
      },
      "outputs": [],
      "source": []
    }
  ],
  "metadata": {
    "accelerator": "GPU",
    "colab": {
      "provenance": []
    },
    "gpuClass": "standard",
    "kernelspec": {
      "display_name": "Python 3",
      "language": "python",
      "name": "python3"
    },
    "language_info": {
      "codemirror_mode": {
        "name": "ipython",
        "version": 3
      },
      "file_extension": ".py",
      "mimetype": "text/x-python",
      "name": "python",
      "nbconvert_exporter": "python",
      "pygments_lexer": "ipython3",
      "version": "3.7.0"
    }
  },
  "nbformat": 4,
  "nbformat_minor": 0
}