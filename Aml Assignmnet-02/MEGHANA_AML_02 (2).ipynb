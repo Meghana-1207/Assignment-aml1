{
  "nbformat": 4,
  "nbformat_minor": 0,
  "metadata": {
    "colab": {
      "provenance": []
    },
    "kernelspec": {
      "name": "python3",
      "display_name": "Python 3"
    },
    "language_info": {
      "name": "python"
    }
  },
  "cells": [
    {
      "cell_type": "code",
      "execution_count": 25,
      "metadata": {
        "colab": {
          "base_uri": "https://localhost:8080/",
          "height": 0
        },
        "id": "vfqlnJ8aBtSY",
        "outputId": "387cc950-7721-474d-94a8-6cdf712e8f2c"
      },
      "outputs": [
        {
          "output_type": "execute_result",
          "data": {
            "text/plain": [
              "[1,\n",
              " 14,\n",
              " 22,\n",
              " 16,\n",
              " 43,\n",
              " 530,\n",
              " 973,\n",
              " 1622,\n",
              " 1385,\n",
              " 65,\n",
              " 458,\n",
              " 4468,\n",
              " 66,\n",
              " 3941,\n",
              " 4,\n",
              " 173,\n",
              " 36,\n",
              " 256,\n",
              " 5,\n",
              " 25,\n",
              " 100,\n",
              " 43,\n",
              " 838,\n",
              " 112,\n",
              " 50,\n",
              " 670,\n",
              " 2,\n",
              " 9,\n",
              " 35,\n",
              " 480,\n",
              " 284,\n",
              " 5,\n",
              " 150,\n",
              " 4,\n",
              " 172,\n",
              " 112,\n",
              " 167,\n",
              " 2,\n",
              " 336,\n",
              " 385,\n",
              " 39,\n",
              " 4,\n",
              " 172,\n",
              " 4536,\n",
              " 1111,\n",
              " 17,\n",
              " 546,\n",
              " 38,\n",
              " 13,\n",
              " 447,\n",
              " 4,\n",
              " 192,\n",
              " 50,\n",
              " 16,\n",
              " 6,\n",
              " 147,\n",
              " 2025,\n",
              " 19,\n",
              " 14,\n",
              " 22,\n",
              " 4,\n",
              " 1920,\n",
              " 4613,\n",
              " 469,\n",
              " 4,\n",
              " 22,\n",
              " 71,\n",
              " 87,\n",
              " 12,\n",
              " 16,\n",
              " 43,\n",
              " 530,\n",
              " 38,\n",
              " 76,\n",
              " 15,\n",
              " 13,\n",
              " 1247,\n",
              " 4,\n",
              " 22,\n",
              " 17,\n",
              " 515,\n",
              " 17,\n",
              " 12,\n",
              " 16,\n",
              " 626,\n",
              " 18,\n",
              " 2,\n",
              " 5,\n",
              " 62,\n",
              " 386,\n",
              " 12,\n",
              " 8,\n",
              " 316,\n",
              " 8,\n",
              " 106,\n",
              " 5,\n",
              " 4,\n",
              " 2223,\n",
              " 5244,\n",
              " 16,\n",
              " 480,\n",
              " 66,\n",
              " 3785,\n",
              " 33,\n",
              " 4,\n",
              " 130,\n",
              " 12,\n",
              " 16,\n",
              " 38,\n",
              " 619,\n",
              " 5,\n",
              " 25,\n",
              " 124,\n",
              " 51,\n",
              " 36,\n",
              " 135,\n",
              " 48,\n",
              " 25,\n",
              " 1415,\n",
              " 33,\n",
              " 6,\n",
              " 22,\n",
              " 12,\n",
              " 215,\n",
              " 28,\n",
              " 77,\n",
              " 52,\n",
              " 5,\n",
              " 14,\n",
              " 407,\n",
              " 16,\n",
              " 82,\n",
              " 2,\n",
              " 8,\n",
              " 4,\n",
              " 107,\n",
              " 117,\n",
              " 5952,\n",
              " 15,\n",
              " 256,\n",
              " 4,\n",
              " 2,\n",
              " 7,\n",
              " 3766,\n",
              " 5,\n",
              " 723,\n",
              " 36,\n",
              " 71,\n",
              " 43,\n",
              " 530,\n",
              " 476,\n",
              " 26,\n",
              " 400,\n",
              " 317,\n",
              " 46,\n",
              " 7,\n",
              " 4,\n",
              " 2,\n",
              " 1029,\n",
              " 13,\n",
              " 104,\n",
              " 88,\n",
              " 4,\n",
              " 381,\n",
              " 15,\n",
              " 297,\n",
              " 98,\n",
              " 32,\n",
              " 2071,\n",
              " 56,\n",
              " 26,\n",
              " 141,\n",
              " 6,\n",
              " 194,\n",
              " 7486,\n",
              " 18,\n",
              " 4,\n",
              " 226,\n",
              " 22,\n",
              " 21,\n",
              " 134,\n",
              " 476,\n",
              " 26,\n",
              " 480,\n",
              " 5,\n",
              " 144,\n",
              " 30,\n",
              " 5535,\n",
              " 18,\n",
              " 51,\n",
              " 36,\n",
              " 28,\n",
              " 224,\n",
              " 92,\n",
              " 25,\n",
              " 104,\n",
              " 4,\n",
              " 226,\n",
              " 65,\n",
              " 16,\n",
              " 38,\n",
              " 1334,\n",
              " 88,\n",
              " 12,\n",
              " 16,\n",
              " 283,\n",
              " 5,\n",
              " 16,\n",
              " 4472,\n",
              " 113,\n",
              " 103,\n",
              " 32,\n",
              " 15,\n",
              " 16,\n",
              " 5345,\n",
              " 19,\n",
              " 178,\n",
              " 32]"
            ]
          },
          "metadata": {},
          "execution_count": 25
        }
      ],
      "source": [
        "#Loading the imdb dataset\n",
        "from tensorflow.keras.datasets import imdb\n",
        "(train_data, train_labels), (test_data, test_labels) = imdb.load_data(\n",
        "    num_words=10000)\n",
        "train_data[0]"
      ]
    },
    {
      "cell_type": "code",
      "source": [
        "train_labels[0]"
      ],
      "metadata": {
        "colab": {
          "base_uri": "https://localhost:8080/",
          "height": 0
        },
        "id": "an0s1d0pBuJh",
        "outputId": "e74c4e69-6749-468d-a5a4-2f71e421ae58"
      },
      "execution_count": 24,
      "outputs": [
        {
          "output_type": "execute_result",
          "data": {
            "text/plain": [
              "1"
            ]
          },
          "metadata": {},
          "execution_count": 24
        }
      ]
    },
    {
      "cell_type": "code",
      "source": [
        "max([max(sequence) for sequence in train_data])"
      ],
      "metadata": {
        "colab": {
          "base_uri": "https://localhost:8080/",
          "height": 0
        },
        "id": "YgIozgnEBuMO",
        "outputId": "56283d77-ef07-46d9-9ac2-f3fea771c23f"
      },
      "execution_count": 4,
      "outputs": [
        {
          "output_type": "execute_result",
          "data": {
            "text/plain": [
              "9999"
            ]
          },
          "metadata": {},
          "execution_count": 4
        }
      ]
    },
    {
      "cell_type": "code",
      "source": [
        "#Decoding reviews back to text\n",
        "word_index = imdb.get_word_index()\n",
        "reverse_word_index = dict(\n",
        "    [(value, key) for (key, value) in word_index.items()])\n",
        "decoded_review = \" \".join(\n",
        "    [reverse_word_index.get(i - 3, \"?\") for i in train_data[0]])"
      ],
      "metadata": {
        "colab": {
          "base_uri": "https://localhost:8080/",
          "height": 0
        },
        "id": "aLb1gW1DBuPD",
        "outputId": "8d9e7bf6-56d0-4e3d-e0f4-abc7eebf6373"
      },
      "execution_count": 5,
      "outputs": [
        {
          "output_type": "stream",
          "name": "stdout",
          "text": [
            "Downloading data from https://storage.googleapis.com/tensorflow/tf-keras-datasets/imdb_word_index.json\n",
            "1641221/1641221 [==============================] - 0s 0us/step\n"
          ]
        }
      ]
    },
    {
      "cell_type": "code",
      "source": [
        "#Preparing the data\n",
        "#Encoding the integer sequences via multi-hot encoding\n",
        "import numpy as np\n",
        "def vectorize_sequences(sequences, dimension=10000):\n",
        "    results = np.zeros((len(sequences), dimension))\n",
        "    for i, sequence in enumerate(sequences):\n",
        "        for j in sequence:\n",
        "            results[i, j] = 1.\n",
        "    return results\n",
        "x_train = vectorize_sequences(train_data)\n",
        "x_test = vectorize_sequences(test_data)"
      ],
      "metadata": {
        "id": "ad6pEE-WBuR4"
      },
      "execution_count": 6,
      "outputs": []
    },
    {
      "cell_type": "code",
      "source": [
        "x_train[0]"
      ],
      "metadata": {
        "colab": {
          "base_uri": "https://localhost:8080/",
          "height": 0
        },
        "id": "sb8IxeOuBuUg",
        "outputId": "0871cc22-5593-4ed2-a39c-69d664cc5f4c"
      },
      "execution_count": 7,
      "outputs": [
        {
          "output_type": "execute_result",
          "data": {
            "text/plain": [
              "array([0., 1., 1., ..., 0., 0., 0.])"
            ]
          },
          "metadata": {},
          "execution_count": 7
        }
      ]
    },
    {
      "cell_type": "code",
      "source": [
        "y_train = np.asarray(train_labels).astype(\"float32\")\n",
        "y_test = np.asarray(test_labels).astype(\"float32\")"
      ],
      "metadata": {
        "id": "0JGDncA4BuXl"
      },
      "execution_count": 8,
      "outputs": []
    },
    {
      "cell_type": "code",
      "source": [
        "#BUILDING YOUR MODEL\n",
        "#Model definition\n",
        "#using 3 layers and 64 nodes in this model. Instead of \"ReLU,\" the activation function \"tanh\" is utilized.\n",
        "#The ReLU function's ranges from 0-infinity, hence it is not appropriate for problems where negative values are crucial. \n",
        "#Given that it has a range of -1 to +1 with zero acting as the midpoint, the Tanh function works well for models with both positive and negative values.\n",
        "\n",
        "from tensorflow import keras\n",
        "from tensorflow.keras import layers\n",
        "from tensorflow.keras import regularizers\n",
        "\n",
        "\n",
        "model = keras.Sequential([\n",
        "    layers.Dense(64,kernel_regularizer=regularizers.l2(0.005),activation=\"tanh\"),\n",
        "    layers.Dense(64,activation=\"tanh\"),\n",
        "    layers.Dropout(0.5),\n",
        "    layers.Dense(64,activation=\"tanh\"),\n",
        "    layers.Dropout(0.5),\n",
        "    layers.Dense(1, activation=\"sigmoid\")\n",
        "])"
      ],
      "metadata": {
        "id": "66yIenkiBuaZ"
      },
      "execution_count": 9,
      "outputs": []
    },
    {
      "cell_type": "code",
      "source": [
        "#compiling the model\n",
        "model.compile(optimizer=\"rmsprop\",\n",
        "              loss=\"mse\",\n",
        "              metrics=[\"accuracy\"])"
      ],
      "metadata": {
        "id": "7l0n9qWSBudL"
      },
      "execution_count": 10,
      "outputs": []
    },
    {
      "cell_type": "code",
      "source": [
        "#validating hte approach\n",
        "#setting aside a validation set\n",
        "x_val = x_train[:10000]\n",
        "partial_x_train = x_train[10000:]\n",
        "y_val = y_train[:10000]\n",
        "partial_y_train = y_train[10000:]"
      ],
      "metadata": {
        "id": "j5oz87WuBugR"
      },
      "execution_count": 11,
      "outputs": []
    },
    {
      "cell_type": "code",
      "source": [
        "#training the model\n",
        "history = model.fit(partial_x_train,\n",
        "                    partial_y_train,\n",
        "                    epochs=20,\n",
        "                    batch_size=512,\n",
        "                    validation_data=(x_val, y_val))"
      ],
      "metadata": {
        "colab": {
          "base_uri": "https://localhost:8080/",
          "height": 0
        },
        "id": "3VxOdHWmBujP",
        "outputId": "88c2d8f0-233f-452e-b53a-0be219bbbfcc"
      },
      "execution_count": 12,
      "outputs": [
        {
          "output_type": "stream",
          "name": "stdout",
          "text": [
            "Epoch 1/20\n",
            "30/30 [==============================] - 4s 96ms/step - loss: 0.5242 - accuracy: 0.7329 - val_loss: 0.2947 - val_accuracy: 0.8222\n",
            "Epoch 2/20\n",
            "30/30 [==============================] - 3s 101ms/step - loss: 0.2189 - accuracy: 0.8535 - val_loss: 0.1962 - val_accuracy: 0.8320\n",
            "Epoch 3/20\n",
            "30/30 [==============================] - 3s 87ms/step - loss: 0.1492 - accuracy: 0.8824 - val_loss: 0.1439 - val_accuracy: 0.8678\n",
            "Epoch 4/20\n",
            "30/30 [==============================] - 2s 73ms/step - loss: 0.1394 - accuracy: 0.8786 - val_loss: 0.1434 - val_accuracy: 0.8666\n",
            "Epoch 5/20\n",
            "30/30 [==============================] - 2s 75ms/step - loss: 0.1199 - accuracy: 0.8995 - val_loss: 0.1418 - val_accuracy: 0.8646\n",
            "Epoch 6/20\n",
            "30/30 [==============================] - 2s 72ms/step - loss: 0.1154 - accuracy: 0.9019 - val_loss: 0.1268 - val_accuracy: 0.8801\n",
            "Epoch 7/20\n",
            "30/30 [==============================] - 2s 73ms/step - loss: 0.1134 - accuracy: 0.9021 - val_loss: 0.1336 - val_accuracy: 0.8684\n",
            "Epoch 8/20\n",
            "30/30 [==============================] - 3s 111ms/step - loss: 0.1072 - accuracy: 0.9081 - val_loss: 0.1298 - val_accuracy: 0.8737\n",
            "Epoch 9/20\n",
            "30/30 [==============================] - 2s 82ms/step - loss: 0.1006 - accuracy: 0.9163 - val_loss: 0.1227 - val_accuracy: 0.8813\n",
            "Epoch 10/20\n",
            "30/30 [==============================] - 2s 67ms/step - loss: 0.1012 - accuracy: 0.9141 - val_loss: 0.1284 - val_accuracy: 0.8749\n",
            "Epoch 11/20\n",
            "30/30 [==============================] - 2s 68ms/step - loss: 0.0971 - accuracy: 0.9191 - val_loss: 0.1247 - val_accuracy: 0.8792\n",
            "Epoch 12/20\n",
            "30/30 [==============================] - 2s 77ms/step - loss: 0.0914 - accuracy: 0.9239 - val_loss: 0.1285 - val_accuracy: 0.8741\n",
            "Epoch 13/20\n",
            "30/30 [==============================] - 3s 117ms/step - loss: 0.0921 - accuracy: 0.9241 - val_loss: 0.1621 - val_accuracy: 0.8331\n",
            "Epoch 14/20\n",
            "30/30 [==============================] - 2s 75ms/step - loss: 0.0891 - accuracy: 0.9271 - val_loss: 0.1337 - val_accuracy: 0.8652\n",
            "Epoch 15/20\n",
            "30/30 [==============================] - 2s 75ms/step - loss: 0.0896 - accuracy: 0.9270 - val_loss: 0.1383 - val_accuracy: 0.8664\n",
            "Epoch 16/20\n",
            "30/30 [==============================] - 2s 75ms/step - loss: 0.0821 - accuracy: 0.9362 - val_loss: 0.1293 - val_accuracy: 0.8747\n",
            "Epoch 17/20\n",
            "30/30 [==============================] - 2s 66ms/step - loss: 0.0864 - accuracy: 0.9299 - val_loss: 0.1259 - val_accuracy: 0.8779\n",
            "Epoch 18/20\n",
            "30/30 [==============================] - 3s 105ms/step - loss: 0.0836 - accuracy: 0.9338 - val_loss: 0.1304 - val_accuracy: 0.8690\n",
            "Epoch 19/20\n",
            "30/30 [==============================] - 3s 83ms/step - loss: 0.0778 - accuracy: 0.9401 - val_loss: 0.1248 - val_accuracy: 0.8771\n",
            "Epoch 20/20\n",
            "30/30 [==============================] - 2s 79ms/step - loss: 0.0781 - accuracy: 0.9385 - val_loss: 0.1257 - val_accuracy: 0.8761\n"
          ]
        }
      ]
    },
    {
      "cell_type": "code",
      "source": [
        "history_dict = history.history\n",
        "history_dict.keys()"
      ],
      "metadata": {
        "colab": {
          "base_uri": "https://localhost:8080/",
          "height": 0
        },
        "id": "r-OEK4rgBumG",
        "outputId": "33897e57-ef03-4925-88ec-d5ddf70dd1d9"
      },
      "execution_count": 13,
      "outputs": [
        {
          "output_type": "execute_result",
          "data": {
            "text/plain": [
              "dict_keys(['loss', 'accuracy', 'val_loss', 'val_accuracy'])"
            ]
          },
          "metadata": {},
          "execution_count": 13
        }
      ]
    },
    {
      "cell_type": "markdown",
      "source": [],
      "metadata": {
        "id": "uDLs9TcLXXWx"
      }
    },
    {
      "cell_type": "code",
      "source": [
        "#Plotting the training and validation loss\n",
        "import matplotlib.pyplot as plt\n",
        "history_dict = history.history\n",
        "loss_values = history_dict[\"loss\"]\n",
        "val_loss_values = history_dict[\"val_loss\"]\n",
        "epochs = range(1, len(loss_values) + 1)\n",
        "plt.plot(epochs, loss_values, \"bo\", label=\"Training loss\")\n",
        "plt.plot(epochs, val_loss_values, \"b\", label=\"Validation loss\")\n",
        "plt.title(\"Training and validation loss\")\n",
        "plt.xlabel(\"Epochs\")\n",
        "plt.ylabel(\"Loss\")\n",
        "plt.legend()\n",
        "plt.show()"
      ],
      "metadata": {
        "colab": {
          "base_uri": "https://localhost:8080/",
          "height": 295
        },
        "id": "CVyTXgbfBupJ",
        "outputId": "fc04a9f4-134b-43b9-c043-005523f2acac"
      },
      "execution_count": 14,
      "outputs": [
        {
          "output_type": "display_data",
          "data": {
            "text/plain": [
              "<Figure size 432x288 with 1 Axes>"
            ],
            "image/png": "[encoded data removed]"
          },
          "metadata": {
            "needs_background": "light"
          }
        }
      ]
    },
    {
      "cell_type": "code",
      "source": [
        "#plotting the training and validation accuracy\n",
        "plt.clf()\n",
        "acc = history_dict[\"accuracy\"]\n",
        "val_acc = history_dict[\"val_accuracy\"]\n",
        "plt.plot(epochs, acc, \"bo\", label=\"Training acc\")\n",
        "plt.plot(epochs, val_acc, \"b\", label=\"Validation acc\")\n",
        "plt.title(\"Training and validation accuracy\")\n",
        "plt.xlabel(\"Epochs\")\n",
        "plt.ylabel(\"Accuracy\")\n",
        "plt.legend()\n",
        "plt.show()"
      ],
      "metadata": {
        "colab": {
          "base_uri": "https://localhost:8080/",
          "height": 295
        },
        "id": "kDocdS9eBur8",
        "outputId": "539036fc-e857-4725-eab2-88c3c558cc72"
      },
      "execution_count": 15,
      "outputs": [
        {
          "output_type": "display_data",
          "data": {
            "text/plain": [
              "<Figure size 432x288 with 1 Axes>"
            ],
            "image/png": "[encoded data removed]"
          },
          "metadata": {
            "needs_background": "light"
          }
        }
      ]
    },
    {
      "cell_type": "code",
      "source": [
        "results = model.evaluate(x_test, y_test)"
      ],
      "metadata": {
        "colab": {
          "base_uri": "https://localhost:8080/",
          "height": 0
        },
        "id": "kevYXl61BuvN",
        "outputId": "4910eaa3-3d3e-44a0-9087-de012ae640ea"
      },
      "execution_count": 16,
      "outputs": [
        {
          "output_type": "stream",
          "name": "stdout",
          "text": [
            "782/782 [==============================] - 5s 6ms/step - loss: 0.1313 - accuracy: 0.8680\n"
          ]
        }
      ]
    },
    {
      "cell_type": "code",
      "source": [
        "results"
      ],
      "metadata": {
        "colab": {
          "base_uri": "https://localhost:8080/",
          "height": 0
        },
        "id": "-iIrkr05FzL7",
        "outputId": "6ffe28c9-3355-4af0-d69e-5bcca20d6c61"
      },
      "execution_count": 17,
      "outputs": [
        {
          "output_type": "execute_result",
          "data": {
            "text/plain": [
              "[0.13130024075508118, 0.8679599761962891]"
            ]
          },
          "metadata": {},
          "execution_count": 17
        }
      ]
    },
    {
      "cell_type": "code",
      "source": [
        "#I've observed that the model with more nodes looks to be more stable. \n",
        "#The models stated above have different levels and functionalities. The training accuracy is still higher for each of these models.\n",
        "# I was able to get some of the greatest results using multiple layers and the MSE loss function."
      ],
      "metadata": {
        "id": "F5cqrrTcFzOZ"
      },
      "execution_count": 18,
      "outputs": []
    },
    {
      "cell_type": "code",
      "source": [
        "#Retraining a model from scratch\n",
        "model = keras.Sequential([\n",
        "    layers.Dense(64,kernel_regularizer=regularizers.l2(0.005),activation=\"tanh\"),\n",
        "    layers.Dropout(0.5),\n",
        "    layers.Dense(64, activation=\"tanh\"),\n",
        "    layers.Dropout(0.5),\n",
        "    layers.Dense(64, activation=\"tanh\"),\n",
        "    layers.Dropout(0.5),\n",
        "    layers.Dense(1, activation=\"sigmoid\")\n",
        "])\n",
        "model.compile(optimizer=\"adam\",\n",
        "              loss=\"mse\",\n",
        "              metrics=[\"accuracy\"])\n",
        "model.fit(x_train, y_train, epochs=4, batch_size=512)\n",
        "results = model.evaluate(x_test, y_test)\n"
      ],
      "metadata": {
        "colab": {
          "base_uri": "https://localhost:8080/",
          "height": 0
        },
        "id": "pXt6UegMFzRB",
        "outputId": "58234b1d-ac40-4a72-f759-c3970ecdf741"
      },
      "execution_count": 19,
      "outputs": [
        {
          "output_type": "stream",
          "name": "stdout",
          "text": [
            "Epoch 1/4\n",
            "49/49 [==============================] - 4s 56ms/step - loss: 0.3554 - accuracy: 0.7861\n",
            "Epoch 2/4\n",
            "49/49 [==============================] - 3s 56ms/step - loss: 0.1549 - accuracy: 0.8908\n",
            "Epoch 3/4\n",
            "49/49 [==============================] - 3s 56ms/step - loss: 0.1469 - accuracy: 0.8984\n",
            "Epoch 4/4\n",
            "49/49 [==============================] - 4s 79ms/step - loss: 0.1478 - accuracy: 0.8994\n",
            "782/782 [==============================] - 4s 4ms/step - loss: 0.1656 - accuracy: 0.8727\n"
          ]
        }
      ]
    },
    {
      "cell_type": "code",
      "source": [
        "results"
      ],
      "metadata": {
        "colab": {
          "base_uri": "https://localhost:8080/",
          "height": 0
        },
        "id": "xgyI3vCVFzUi",
        "outputId": "be85b589-b586-4c6f-eec3-4ad5f9b48da0"
      },
      "execution_count": 20,
      "outputs": [
        {
          "output_type": "execute_result",
          "data": {
            "text/plain": [
              "[0.16555257141590118, 0.8727200031280518]"
            ]
          },
          "metadata": {},
          "execution_count": 20
        }
      ]
    },
    {
      "cell_type": "code",
      "source": [],
      "metadata": {
        "id": "g5vjSBvOmfHB"
      },
      "execution_count": null,
      "outputs": []
    }
  ]
}